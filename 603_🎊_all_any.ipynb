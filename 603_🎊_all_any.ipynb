{
 "cells": [
  {
   "cell_type": "markdown",
   "metadata": {},
   "source": [
    "> ### Vérification de la configuration\n",
    "> Vérifiez que Python et les tests fonctionnent correctement en exécutant les deux cellules ci-dessous."
   ]
  },
  {
   "cell_type": "code",
   "execution_count": null,
   "metadata": {},
   "outputs": [],
   "source": [
    "print(\"✅ Python works!\")\n",
    "from sys import version\n",
    "print(version)"
   ]
  },
  {
   "cell_type": "code",
   "execution_count": null,
   "metadata": {},
   "outputs": [],
   "source": [
    "import ipytest\n",
    "ipytest.autoconfig()\n",
    "ipytest.clean()\n",
    "def test_all_good():\n",
    "    assert \"🐍\" == \"🐍\"\n",
    "ipytest.run()"
   ]
  },
  {
   "cell_type": "markdown",
   "metadata": {},
   "source": [
    "# Les fonctions intégrées `all` et `any`\n",
    "\n",
    "La fonction:\n",
    "- `all(iterable)` renvoie `True` si **tous les éléments** d'un itérable (liste, tuple, etc.) sont **truthy**, `False` sinon\n",
    "- `any(iterable)` renvoie `True` si **au moins un élément** d'un itérable est **truthy**, `False` sinon\n",
    "\n",
    "Exemples:\n",
    "```python\n",
    "all([True, True, True]) # True\n",
    "all([True, False, True]) # False\n",
    "any([False, False, False]) # False\n",
    "any([False, True, False]) # True\n",
    "\n",
    "all([1, 2, 3]) # True\n",
    "all([1, 0, 3]) # False\n",
    "any([0, 0, 0]) # False\n",
    "any([0, 1, 0]) # True\n",
    "\n",
    "all(['a', 'b', 'c']) # True\n",
    "all(['a', '', 'c']) # False\n",
    "any(['', '', '']) # False\n",
    "any(['', 'a', '']) # True\n",
    "\n",
    "all([]) # True\n",
    "any([]) # False\n",
    "```\n",
    "\n",
    "Avec ces fonctions, vous pouvez facilement vérifier si tous les éléments d'une liste vérifient une condition, ou si au moins un élément vérifie une condition. Pour cela vous pouvez utiliser une **compréhension de liste** (`all(condition for element in iterable)`).\n",
    "\n",
    "Exemple:\n",
    "```python\n",
    "\n",
    "# Vérifie si tous les éléments de la liste sont positifs\n",
    "all(element > 0 for element in [1, 2, 3]) # True\n",
    "all(element > 0 for element in [1, 2, -3]) # False\n",
    "\n",
    "# Vérifie si au moins un élément de la liste est positif\n",
    "any(element > 0 for element in [-1, -2, 3]) # True\n",
    "any(element > 0 for element in [-1, -2, -3]) # False\n",
    "\n",
    "# Vérifie si tous les éléments de la liste sont des entiers\n",
    "all(isinstance(element, int) for element in [1, 2, 3]) # True\n",
    "all(isinstance(element, int) for element in [1, 2, 'a']) # False\n",
    "```"
   ]
  },
  {
   "cell_type": "code",
   "execution_count": null,
   "metadata": {},
   "outputs": [],
   "source": [
    "# 🏖️ Sandbox for testing code\n"
   ]
  },
  {
   "cell_type": "code",
   "execution_count": null,
   "metadata": {},
   "outputs": [],
   "source": [
    "# 1. Créer une fonction `all_even(numbers)` qui prend une liste de nombres et retourne `True` si tous les nombres sont pairs, et `False` sinon.\n",
    "\n"
   ]
  },
  {
   "cell_type": "code",
   "execution_count": null,
   "metadata": {},
   "outputs": [],
   "source": [
    "# 🧪\n",
    "ipytest.clean()\n",
    "def test_all_even():\n",
    "    assert all_even([2, 4, 6]) == True\n",
    "    assert all_even([2, 4, 7]) == False\n",
    "    assert all_even([1, 3, 5]) == False\n",
    "    assert all_even([]) == True\n",
    "ipytest.run()"
   ]
  },
  {
   "cell_type": "code",
   "execution_count": null,
   "metadata": {},
   "outputs": [],
   "source": [
    "# 2. Créer une fonction `all_upper(strings)` qui prend une liste de chaînes de caractères et retourne `True` si toutes les chaînes sont en majuscules, et `False` sinon.\n"
   ]
  },
  {
   "cell_type": "code",
   "execution_count": null,
   "metadata": {},
   "outputs": [],
   "source": [
    "# 🧪\n",
    "ipytest.clean()\n",
    "def test_all_upper():\n",
    "    assert all_upper([\"HELLO\", \"WORLD\"]) == True\n",
    "    assert all_upper([\"HELLO\", \"world\"]) == False\n",
    "    assert all_upper([\"hello\", \"world\"]) == False\n",
    "    assert all_upper([]) == True\n",
    "ipytest.run()"
   ]
  },
  {
   "cell_type": "code",
   "execution_count": null,
   "metadata": {},
   "outputs": [],
   "source": [
    "# 3. Créer une fonction `has_adults(people)` qui prend une liste de dictionnaires représentant des personnes avec un attribut \"age\" et retourne `True` s'il y a au moins une personne majeure, et `False` sinon.\n",
    "# Ex:\n",
    "# - `has_adults([{\"age\": 20, \"name\": \"Matthieu\"}, {\"age\": 17, \"name\": \"Tyrion\"}])` doit retourner `True`.\n",
    "# - `has_adults([{\"age\": 10, \"name\": \"Matthieu\"}, {\"age\": 17, \"name\": \"Tyrion\"}])` doit retourner `False`.\n",
    "\n"
   ]
  },
  {
   "cell_type": "code",
   "execution_count": null,
   "metadata": {},
   "outputs": [],
   "source": [
    "# 🧪\n",
    "ipytest.clean()\n",
    "def test_has_adults():\n",
    "    assert has_adults([{\"age\": 20, \"name\": \"Matthieu\"}, {\"age\": 17, \"name\": \"Tyrion\"}]) == True\n",
    "    assert has_adults([{\"age\": 10, \"name\": \"Matthieu\"}, {\"age\": 17, \"name\": \"Tyrion\"}]) == False\n",
    "    assert has_adults([]) == False\n",
    "ipytest.run()"
   ]
  },
  {
   "cell_type": "code",
   "execution_count": null,
   "metadata": {},
   "outputs": [],
   "source": [
    "# 4. Créez une fonction `my_all(iterable)` qui reproduit le comportement de la fonction `all` de Python. La fonction `all` prend un itérable (par exemple une liste) et retourne `True` si tous les éléments de l'itérable sont `True`, et `False` sinon. Utilisez une boucle, vous n'avez pas le droit d'utiliser la fonction `all` de Python.\n"
   ]
  },
  {
   "cell_type": "code",
   "execution_count": null,
   "metadata": {},
   "outputs": [],
   "source": [
    "# 🧪\n",
    "ipytest.clean()\n",
    "def test_my_all():\n",
    "    assert my_all([True, True, True]) == True\n",
    "    assert my_all([True, False, True]) == False\n",
    "    assert my_all([False, False, False]) == False\n",
    "    assert my_all(['a', 1, [1]]) == True\n",
    "    assert my_all([]) == True\n",
    "    assert my_all([[]]) == False\n",
    "    assert my_all([0, 1]) == False\n",
    "ipytest.run()"
   ]
  },
  {
   "cell_type": "code",
   "execution_count": null,
   "metadata": {},
   "outputs": [],
   "source": [
    "# 5. Créez une fonction `my_any(iterable)` qui reproduit le comportement de la fonction `any` de Python. La fonction `any` prend un itérable (par exemple une liste) et retourne `True` si au moins un des éléments de l'itérable est `True`, et `False` sinon. Utilisez une boucle, vous n'avez pas le droit d'utiliser la fonction `any` de Python.\n"
   ]
  },
  {
   "cell_type": "code",
   "execution_count": null,
   "metadata": {},
   "outputs": [],
   "source": [
    "# 🧪\n",
    "ipytest.clean()\n",
    "def test_my_any():\n",
    "    assert my_any([True, True, True]) == True\n",
    "    assert my_any([True, False, True]) == True\n",
    "    assert my_any([False, False, False]) == False\n",
    "    assert my_any(['a', 0, [1]]) == True\n",
    "    assert my_any([]) == False\n",
    "    assert my_any([[]]) == False\n",
    "    assert my_any([0, 1]) == True\n",
    "ipytest.run()"
   ]
  }
 ],
 "metadata": {
  "kernelspec": {
   "display_name": "Python 3",
   "language": "python",
   "name": "python3"
  },
  "language_info": {
   "codemirror_mode": {
    "name": "ipython",
    "version": 3
   },
   "file_extension": ".py",
   "mimetype": "text/x-python",
   "name": "python",
   "nbconvert_exporter": "python",
   "pygments_lexer": "ipython3",
   "version": "3.11.5"
  }
 },
 "nbformat": 4,
 "nbformat_minor": 2
}
