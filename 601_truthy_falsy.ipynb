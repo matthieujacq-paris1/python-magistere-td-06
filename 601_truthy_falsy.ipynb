{
 "cells": [
  {
   "cell_type": "markdown",
   "metadata": {},
   "source": [
    "> ### Vérification de la configuration\n",
    "> Vérifiez que Python et les tests fonctionnent correctement en exécutant les deux cellules ci-dessous."
   ]
  },
  {
   "cell_type": "code",
   "execution_count": null,
   "metadata": {},
   "outputs": [],
   "source": [
    "print(\"✅ Python works!\")\n",
    "from sys import version\n",
    "print(version)"
   ]
  },
  {
   "cell_type": "code",
   "execution_count": null,
   "metadata": {},
   "outputs": [],
   "source": [
    "import ipytest\n",
    "ipytest.autoconfig()\n",
    "ipytest.clean()\n",
    "def test_all_good():\n",
    "    assert \"🐍\" == \"🐍\"\n",
    "ipytest.run()"
   ]
  },
  {
   "cell_type": "markdown",
   "metadata": {},
   "source": [
    "# Truthy and Falsy values\n",
    "\n",
    "Les valeurs `True` et `False` sont des valeurs booléennes qui sont utilisées pour représenter des conditions. Ainsi on utilise très souvent des expressions booléennes pour contrôler le flux d'exécution d'un programme.\n",
    "\n",
    "Exemple:\n",
    "```python\n",
    "if a == 2: # a == 2 est une expression booléenne, qui vaut True si a est égal à 2, False sinon\n",
    "    # ...\n",
    "elif a > 2: \n",
    "    # ...\n",
    "else:\n",
    "    # ...\n",
    "```\n",
    "\n",
    "Cependant, il est possible d'utiliser d'autres types de valeurs dans des conditions. En Python, toutes les valeurs peuvent être utilisées dans des conditions. Certaines valeurs sont considérées comme `True` et d'autres comme `False`. On dit que ces valeurs sont \"truthy\" ou \"falsy\".\n",
    "\n",
    "Voici une liste des valeurs considérées comme `False` en Python:\n",
    "- `False`\n",
    "- `None`\n",
    "- `0` (entier)\n",
    "- `0.0` (flottant)\n",
    "- `''` (chaîne de caractères vide)\n",
    "- `[]` (liste vide)\n",
    "- `{}` (dictionnaire vide)\n",
    "- `()` (tuple vide)\n",
    "- `set()` (ensemble vide)\n",
    "- `range(0)` (intervalle vide)\n",
    "\n",
    "En résumé, sont **falsy** : **0, None et tout ce qui est vide**.\n",
    "\n",
    "Toutes les autres valeurs sont considérées comme `True`.\n",
    "\n",
    "Exemple:\n",
    "```python\n",
    "if 2: # ✅\n",
    "    print('2 is truthy')\n",
    "if 0: # ❌\n",
    "    print('0 is falsy')\n",
    "if 'hello': # ✅\n",
    "    print('Non-empty string is truthy')\n",
    "if '': # ❌\n",
    "    print('Empty string is falsy')\n",
    "if [1, 2, 3]: # ✅\n",
    "    print('Non-empty list is truthy')\n",
    "if []: # ❌\n",
    "    print('Empty list is falsy')\n",
    "```\n",
    "\n",
    "On peut combiner avec les opérateurs logiques `and`, `or` et `not` pour créer des conditions plus complexes. Attention à `and` et `or` qui ne renvoient pas forcément `True` ou `False`, mais la dernière valeur truthy ou falsy rencontrée.\n",
    "\n",
    "```python\n",
    "if 2 and 'hello': # ✅\n",
    "    print('2 and \"hello\" are both truthy')\n",
    "if 0 or 'hello': # ✅\n",
    "    print('0 is falsy but \"hello\" is truthy')\n",
    "if not '': # ✅\n",
    "    print('not \"\" is truthy')\n",
    "```\n",
    "\n",
    "**⚠️ Warning**: Utilisez les valeurs truthy et falsy avec précaution.\n",
    "```python\n",
    "if data:\n",
    "    # do something with data\n",
    "\n",
    "# est équivalent à\n",
    "if data != 0 and data != None and data != '' and data != [] and data != {} and data != ():\n",
    "    # do something with data\n",
    "```\n",
    "\n",
    "> **🎊 Tip**: donner des valeurs par défaut\n",
    ">\n",
    "> On peut utiliser des valeurs truthy ou falsy pour donner des valeurs par défaut à des variables. Par exemple :\n",
    "> ```python\n",
    "> name = input('Enter your name: ') or 'Anonymous' # Si l'utilisateur n'entre rien, name vaut 'Anonymous'\n",
    "> ```\n",
    "\n",
    "### La fonction `bool()`\n",
    "\n",
    "La fonction `bool()` permet de convertir une valeur en booléen. Elle renvoie `True` si la valeur est truthy, `False` sinon.\n",
    "\n",
    "```python\n",
    "print(bool(2)) # True\n",
    "print(bool(0)) # False\n",
    "print(bool('hello')) # True\n",
    "print(bool('')) # False\n",
    "```\n",
    "\n",
    "## Exercices\n",
    "\n",
    "Modifiez les fonctions suivantes de sortes à simplifier les conditions en utilisant les valeurs truthy et falsy.\n",
    "\n",
    "```python\n",
    "def get_name(name):\n",
    "    if name != '':\n",
    "        return name\n",
    "    else:\n",
    "        return 'Anonymous'\n",
    "\n",
    "def get_first_element(data):\n",
    "    if len(data) > 0:\n",
    "        return data[0]\n",
    "    else:\n",
    "        return None\n",
    "\n",
    "def is_empty(data):\n",
    "    if len(data) == 0:\n",
    "        return True\n",
    "    else:\n",
    "        return False\n",
    "\n",
    "def check_config(config):\n",
    "    if config != {}:\n",
    "        return \"Config found\"\n",
    "\n",
    "def dispatch_parcel(parcel_id, stocks):\n",
    "    stock = stocks.get(parcel_id, 0)\n",
    "    if stock != 0:\n",
    "        return f\"Parcel {parcel_id} is ready to be dispatched\"\n",
    "    else:\n",
    "        return f\"Parcel {parcel_id} is not available\"\n",
    "\n",
    "def plot_data(data):\n",
    "    if len(data) > 0:\n",
    "        plt.plot(data)\n",
    "        plt.show()\n",
    "\n",
    "def get_odd(data):\n",
    "    if data == None or len(data) == 0:\n",
    "        raise ValueError(\"The argument data cannot be empty\")\n",
    "    odd_numbers = []\n",
    "    for value in data:\n",
    "        if value % 2 == 1:\n",
    "            odd_numbers.append(value)\n",
    "    return odd_numbers\n",
    "\n",
    "def is_valid_user(user):\n",
    "    return user['name'] != '' and user['email'] != '' and user['age'] != 0\n",
    "\n",
    "```\n"
   ]
  },
  {
   "cell_type": "code",
   "execution_count": null,
   "metadata": {},
   "outputs": [],
   "source": [
    "# 🏖️ Sandbox for testing code\n"
   ]
  },
  {
   "cell_type": "code",
   "execution_count": null,
   "metadata": {},
   "outputs": [],
   "source": [
    "def get_name(name):\n",
    "    if name != '':\n",
    "        return name\n",
    "    else:\n",
    "        return 'Anonymous'"
   ]
  },
  {
   "cell_type": "code",
   "execution_count": null,
   "metadata": {},
   "outputs": [],
   "source": [
    "# 🧪\n",
    "ipytest.clean()\n",
    "def test_get_name():\n",
    "    assert get_name('') == 'Anonymous'\n",
    "    assert get_name('John') == 'John'\n",
    "ipytest.run()"
   ]
  },
  {
   "cell_type": "code",
   "execution_count": null,
   "metadata": {},
   "outputs": [],
   "source": [
    "def get_first_element(data):\n",
    "    if len(data) > 0:\n",
    "        return data[0]\n",
    "    else:\n",
    "        return None"
   ]
  },
  {
   "cell_type": "code",
   "execution_count": null,
   "metadata": {},
   "outputs": [],
   "source": [
    "# 🧪\n",
    "ipytest.clean()\n",
    "def test_get_first_element():\n",
    "    assert get_first_element([]) == None\n",
    "    assert get_first_element([1, 2, 3]) == 1\n",
    "ipytest.run()"
   ]
  },
  {
   "cell_type": "code",
   "execution_count": null,
   "metadata": {},
   "outputs": [],
   "source": [
    "def is_empty(data):\n",
    "    if len(data) == 0:\n",
    "        return True\n",
    "    else:\n",
    "        return False"
   ]
  },
  {
   "cell_type": "code",
   "execution_count": null,
   "metadata": {},
   "outputs": [],
   "source": [
    "# 🧪\n",
    "ipytest.clean()\n",
    "def test_is_empty():\n",
    "    assert is_empty([]) == True\n",
    "    assert is_empty([1, 2, 3]) == False\n",
    "ipytest.run()"
   ]
  },
  {
   "cell_type": "code",
   "execution_count": null,
   "metadata": {},
   "outputs": [],
   "source": [
    "def check_config(config):\n",
    "    if config != {}:\n",
    "        return \"Config found\""
   ]
  },
  {
   "cell_type": "code",
   "execution_count": null,
   "metadata": {},
   "outputs": [],
   "source": [
    "\n",
    "ipytest.clean()\n",
    "def test_check_config():\n",
    "    # assert check_config(None) == None\n",
    "    assert check_config({}) == None\n",
    "    assert check_config({\"os\": \"mac\"}) == \"Config found\"\n",
    "    assert check_config(\"config\") == \"Config found\"\n",
    "ipytest.run()"
   ]
  },
  {
   "cell_type": "code",
   "execution_count": null,
   "metadata": {},
   "outputs": [],
   "source": [
    "def dispatch_parcel(parcel_id, stocks):\n",
    "    stock = stocks.get(parcel_id, 0)\n",
    "    if stock != 0:\n",
    "        return f\"Parcel {parcel_id} is ready to be dispatched\"\n",
    "    else:\n",
    "        return f\"Parcel {parcel_id} is not available\""
   ]
  },
  {
   "cell_type": "code",
   "execution_count": null,
   "metadata": {},
   "outputs": [],
   "source": [
    "# 🧪\n",
    "ipytest.clean()\n",
    "def test_dispatch_parcel():\n",
    "    assert dispatch_parcel(1, {1: 1}) == \"Parcel 1 is ready to be dispatched\"\n",
    "    assert dispatch_parcel(1, {1: 0}) == \"Parcel 1 is not available\"\n",
    "    assert dispatch_parcel(2, {1: 1}) == \"Parcel 2 is not available\"\n",
    "    assert dispatch_parcel(3, {1: 1, 2: 2, 3: 3}) == \"Parcel 3 is ready to be dispatched\"\n",
    "ipytest.run()"
   ]
  },
  {
   "cell_type": "code",
   "execution_count": null,
   "metadata": {},
   "outputs": [],
   "source": [
    "# Installez matplotlib si nécessaire\n",
    "import matplotlib.pyplot as plt\n",
    "\n",
    "def plot_data(data):\n",
    "    if len(data) > 0:\n",
    "        plt.plot(data)\n",
    "        plt.show()\n",
    "\n",
    "plot_data([1, 2, 3, 4, 5])\n",
    "plot_data([])"
   ]
  },
  {
   "cell_type": "code",
   "execution_count": null,
   "metadata": {},
   "outputs": [],
   "source": [
    "# 🧪\n",
    "ipytest.clean()\n",
    "def test_plot_data():\n",
    "    from unittest.mock import patch\n",
    "    with patch(\"matplotlib.pyplot.plot\") as mock_plot:\n",
    "        plot_data([1, 2, 3, 4, 5])\n",
    "        mock_plot.assert_called_once_with([1, 2, 3, 4, 5])\n",
    "    with patch(\"matplotlib.pyplot.plot\") as mock_plot:\n",
    "        plot_data([])\n",
    "        mock_plot.assert_not_called()\n",
    "ipytest.run()"
   ]
  },
  {
   "cell_type": "code",
   "execution_count": null,
   "metadata": {},
   "outputs": [],
   "source": [
    "def get_odd(data):\n",
    "    if data == None or len(data) == 0:\n",
    "        raise ValueError(\"The argument data cannot be empty\")\n",
    "    odd_numbers = []\n",
    "    for value in data:\n",
    "        if value % 2 == 1:\n",
    "            odd_numbers.append(value)\n",
    "    return odd_numbers"
   ]
  },
  {
   "cell_type": "code",
   "execution_count": null,
   "metadata": {},
   "outputs": [],
   "source": [
    "# 🧪\n",
    "ipytest.clean()\n",
    "def test_get_odd():\n",
    "    assert get_odd([1, 2, 3, 4, 5]) == [1, 3, 5]\n",
    "    assert get_odd([2, 4, 6]) == []\n",
    "    try:\n",
    "        get_odd([])\n",
    "    except ValueError as e:\n",
    "        assert str(e) == \"The argument data cannot be empty\"\n",
    "    try:\n",
    "        get_odd(None)\n",
    "    except ValueError as e:\n",
    "        assert str(e) == \"The argument data cannot be empty\"\n",
    "ipytest.run()"
   ]
  },
  {
   "cell_type": "code",
   "execution_count": null,
   "metadata": {},
   "outputs": [],
   "source": [
    "def is_valid_user(user):\n",
    "    return user['name'] != '' and user['email'] != '' and user['age'] != 0"
   ]
  },
  {
   "cell_type": "code",
   "execution_count": null,
   "metadata": {},
   "outputs": [],
   "source": [
    "# 🧪\n",
    "ipytest.clean()\n",
    "def test_is_valid_user():\n",
    "    assert is_valid_user({'name': 'Jon', 'email': 'Snow', 'age': 30}) == True\n",
    "    assert is_valid_user({'name': '', 'email': 'Snow', 'age': 30}) == False\n",
    "    assert is_valid_user({'name': 'Jon', 'email': '', 'age': 30}) == False\n",
    "    assert is_valid_user({'name': 'Jon', 'email': 'Snow', 'age': 0}) == False\n",
    "    assert is_valid_user({'name': '', 'email': '', 'age': 0}) == False\n",
    "ipytest.run()"
   ]
  }
 ],
 "metadata": {
  "kernelspec": {
   "display_name": "Python 3",
   "language": "python",
   "name": "python3"
  },
  "language_info": {
   "codemirror_mode": {
    "name": "ipython",
    "version": 3
   },
   "file_extension": ".py",
   "mimetype": "text/x-python",
   "name": "python",
   "nbconvert_exporter": "python",
   "pygments_lexer": "ipython3",
   "version": "3.11.5"
  }
 },
 "nbformat": 4,
 "nbformat_minor": 2
}
